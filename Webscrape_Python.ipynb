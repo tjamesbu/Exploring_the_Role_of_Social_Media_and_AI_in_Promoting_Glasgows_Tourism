{
  "nbformat": 4,
  "nbformat_minor": 0,
  "metadata": {
    "colab": {
      "provenance": []
    },
    "kernelspec": {
      "name": "python3",
      "display_name": "Python 3"
    },
    "language_info": {
      "name": "python"
    }
  },
  "cells": [
    {
      "cell_type": "code",
      "execution_count": null,
      "metadata": {
        "id": "DQwajfhSXitW"
      },
      "outputs": [],
      "source": []
    },
    {
      "cell_type": "code",
      "source": [
        "import requests\n",
        "from bs4 import BeautifulSoup\n",
        "import pandas as pd\n",
        "import re"
      ],
      "metadata": {
        "id": "enfGpGJPZPaL"
      },
      "execution_count": null,
      "outputs": []
    },
    {
      "cell_type": "code",
      "source": [
        "url = \" \"\n",
        "link = \" \""
      ],
      "metadata": {
        "id": "GY_wY8fjZR_r"
      },
      "execution_count": null,
      "outputs": []
    },
    {
      "cell_type": "code",
      "source": [
        "r = requests.get(url)\n",
        "# cross-check status code if the url request is successful\n",
        "print(\"Request successful: {} \".format(r.status_code == 200))"
      ],
      "metadata": {
        "id": "2I4jl3vAZSny"
      },
      "execution_count": null,
      "outputs": []
    },
    {
      "cell_type": "code",
      "source": [
        "soup = BeautifulSoup(r.content, 'html.parser')"
      ],
      "metadata": {
        "id": "-bizzQHrZU8o"
      },
      "execution_count": null,
      "outputs": []
    },
    {
      "cell_type": "code",
      "source": [
        "# inspect element at url and extract all tables containing embassies\n",
        "tables = soup.find_all(\"table\", class_=\"tb1\")\n",
        "print(\"Total num. of tables with embassy info: \", len(tables))"
      ],
      "metadata": {
        "id": "wSGFVkGSZXMI"
      },
      "execution_count": null,
      "outputs": []
    },
    {
      "cell_type": "code",
      "source": [
        "def parseCols(cols):\n",
        "    webpage = []\n",
        "    country = []\n",
        "    missionType = []\n",
        "    phone = []\n",
        "    for c in cols:\n",
        "        if c.find(\"a\"):\n",
        "            webpage.append(link + c.find(\"a\")[\"href\"])\n",
        "            country.append(c.text)\n",
        "        elif re.match(r'[\\d]', re.sub(r'[^0-9]', '', c.text)):\n",
        "            phone.append(re.sub(r'[^a-zA-Z0-9 \\n]', '', c.text))\n",
        "        else:\n",
        "            missionType.append(c.text)\n",
        "    return webpage, country, missionType, phone"
      ],
      "metadata": {
        "id": "FEed51X5ZXPF"
      },
      "execution_count": null,
      "outputs": []
    },
    {
      "cell_type": "code",
      "source": [
        "list_webpage = []\n",
        "list_country = []\n",
        "list_missionType = []\n",
        "list_phone = []\n",
        "\n",
        "for table in tables:\n",
        "    webpage, country, missionType, phone = parseCols(table.find_all(\"td\"))\n",
        "    list_webpage += webpage\n",
        "    list_country += country\n",
        "    list_missionType += missionType\n",
        "    list_phone += phone\n",
        "    # print(len(list_webpage),len(list_country),len(list_missionType), len(list_phone))"
      ],
      "metadata": {
        "id": "sz21bjUYZXR0"
      },
      "execution_count": null,
      "outputs": []
    },
    {
      "cell_type": "code",
      "source": [
        "data = { \"embassy_webpages\": list_webpage,\n",
        "        \"country\": list_country,\n",
        "        \"diplomatic_mission_type\": list_missionType,\n",
        "        \"phone\": list_phone\n",
        "}\n",
        "df = pd.DataFrame(data)"
      ],
      "metadata": {
        "id": "hOWB6nx6ZXU6"
      },
      "execution_count": null,
      "outputs": []
    },
    {
      "cell_type": "code",
      "source": [
        "df.to_csv(\"paris_embassies_website_phone.csv\", index=False)"
      ],
      "metadata": {
        "id": "DOhPCQaOZXXo"
      },
      "execution_count": null,
      "outputs": []
    },
    {
      "cell_type": "code",
      "source": [
        "out = pd.read_csv(\"paris_embassies_website_phone.csv\")\n",
        "out.tail()"
      ],
      "metadata": {
        "id": "gxgwFvw1Zkr2"
      },
      "execution_count": null,
      "outputs": []
    }
  ]
}